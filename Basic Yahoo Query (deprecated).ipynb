{
 "cells": [
  {
   "attachments": {},
   "cell_type": "markdown",
   "metadata": {},
   "source": [
    "# **<center> Yahoo Query Example</center>**"
   ]
  },
  {
   "cell_type": "code",
   "execution_count": 8,
   "metadata": {},
   "outputs": [],
   "source": [
    "from yahooquery import Ticker\n",
    "import pandas as pd\n",
    "import time\n",
    "\n",
    "#yahooquery api is deprecated\n",
    "\n",
    "start = time.time()"
   ]
  },
  {
   "attachments": {},
   "cell_type": "markdown",
   "metadata": {},
   "source": [
    "## Setting tickers to get data from"
   ]
  },
  {
   "cell_type": "code",
   "execution_count": 9,
   "metadata": {},
   "outputs": [],
   "source": [
    "symbols = ['aapl', 'amzn','nflx','goog','amd','nvda','ko','bac','hrl','wmt','pg','cvx','axp','o','intc','bep','enb','stor','peak','rhp','frt','fulc','dis','bbig','ed','ctso','abbv','sos','qfin','hpq','khc','ogn','vz','nycb','axsm','leg','sfix','amed','bah','hgen','mrsn','base','posh','vtrs','bap','sofi','kr','viac','bmy','fsly','cogt','vale']\n",
    "# Replace all the '.' with '-'for the symbol list, "
   ]
  },
  {
   "attachments": {},
   "cell_type": "markdown",
   "metadata": {},
   "source": [
    "## Getting data from Yahoo Finance"
   ]
  },
  {
   "cell_type": "code",
   "execution_count": 10,
   "metadata": {},
   "outputs": [],
   "source": [
    "tickers = Ticker(symbols)\n",
    "#data = tickers.all_modules\n",
    "data1 = tickers.financial_data\n",
    "data2 = tickers.key_stats"
   ]
  },
  {
   "attachments": {},
   "cell_type": "markdown",
   "metadata": {},
   "source": [
    "## Setting data in a dataframe"
   ]
  },
  {
   "cell_type": "code",
   "execution_count": null,
   "metadata": {},
   "outputs": [],
   "source": [
    "df1 = pd.DataFrame(data1)\n",
    "df2 = pd.DataFrame(data2)\n",
    "\n",
    "# prints key first then data1[key][fcf] in same row\n",
    "#append dict to list and convert to df\n",
    "dict = {\"name\":[],\"fcf\":[],\"price\":[],\"EV/EBITDA\":[],\"totalshares\":[]}"
   ]
  },
  {
   "attachments": {},
   "cell_type": "markdown",
   "metadata": {},
   "source": [
    "## Retrieving specific data for the dictionary"
   ]
  },
  {
   "cell_type": "code",
   "execution_count": null,
   "metadata": {},
   "outputs": [
    {
     "name": "stdout",
     "output_type": "stream",
     "text": [
      "{'name': ['aapl', 'amzn', 'nflx', 'goog', 'amd', 'nvda', 'ko', 'bac', 'hrl', 'wmt', 'pg', 'cvx', 'axp', 'o', 'intc', 'bep', 'enb', 'stor', 'peak', 'rhp', 'frt', 'fulc', 'dis', 'bbig', 'ed', 'ctso', 'abbv', 'sos', 'qfin', 'hpq', 'khc', 'ogn', 'vz', 'nycb', 'axsm', 'leg', 'sfix', 'amed', 'bah', 'hgen', 'mrsn', 'base', 'posh', 'vtrs', 'bap', 'sofi', 'kr', 'viac', 'bmy', 'fsly', 'cogt', 'vale'], 'fcf': [83796623360, 9030625280, 17384407040, 55862624256, 3762500096, 5470499840, 9134249984, 'Null', 'Null', 21053624320, 11414750208, 30317000704, 'Null', 1811854336, -10187875328, -623500032, 2859875072, 'Null', 1026434240, 329498240, 534493632, -61141500, 5236874752, 111910472, -716249984, -21131176, 21602875392, 13155375, 2940226304, 2321250048, 1603250048, 321249984, 10890125312, 'Null', -21893428, 345724992, 'Null', 98907248, 649200000, -45921500, -85725872, 'Null', 'Null', 4603662336, 'Null', 'Null', 2089874944, 'Null', 12602375168, -34106500, -78858248, 35048001536], 'price': [180.96, 123.43, 420.02, 122.87, 124.92, 387.7, 60.47, 29.27, 40.87, 153.09, 146.56, 158.86, 171.72, 60.91, 31.34, 31.96, 37.94, 'Null', 20.69, 95.7, 96.14, 3.09, 91.93, 2.09, 93.49, 3.32, 138.18, 4.08, 16.25, 29.8, 36.88, 19.83, 35.47, 10.95, 73.74, 31.73, 4.48, 91.8, 103.51, 0.147, 8.55, 16.18, 'Null', 9.38, 140.5, 8.18, 46.17, 'Null', 64.8, 16.61, 12.01, 14.04], 'EV/EBITDA': [23.378, 24.139, 33.364, 16.823, 48.238, 156.712, 21.755, 'Null', 'Null', 12.932, 17.668, 5.297, 'Null', 19.544, 15.809, 17.898, 12.769, 'Null', 17.757, 13.366, 18.8, 0.844, 17.261, 0.351, 10.388, -4.74, 10.114, 1.13, -0.301, 7.792, 10.835, 7.448, 6.943, 'Null', -22.509, 10.367, 'Null', 17.325, 26.574, 'Null', -3.505, 'Null', 'Null', 5.544, 'Null', 'Null', 6.95, 'Null', 8.532, -13.878, -4.506, 1.306], 'totalshares': [15728700416, 10260400128, 444540992, 5873999872, 1610360064, 2470000128, 4324579840, 7969149952, 546268032, 2692839936, 2356969984, 1894640000, 743241024, 673222016, 4171000064, 275432992, 2024679936, 'Null', 546995968, 55263900, 81515400, 61759000, 1827299968, 13000000, 346540000, 43954200, 1764290048, 6380540, 161464992, 985955968, 1227239936, 255062000, 4203990016, 722126016, 43573200, 133112000, 88362304, 32584800, 130825000, 119080000, 114386000, 46407700, 'Null', 1199030016, 79533104, 940896000, 717648000, 'Null', 2100850048, 127000000, 70946800, 4429429760]}\n"
     ]
    }
   ],
   "source": [
    "# if symbol is not found, it returns nothing, thus set value to be zero\n",
    "for key in data1:\n",
    "    dict[\"name\"].append(key)\n",
    "    try:        \n",
    "        dict[\"fcf\"].append(data1[key]['freeCashflow'])\n",
    "    except:\n",
    "        dict[\"fcf\"].append('Null')\n",
    "        \n",
    "    try:\n",
    "        dict[\"price\"].append(data1[key]['currentPrice'])\n",
    "    except:\n",
    "        dict[\"price\"].append('Null')\n",
    "\n",
    "# Again, if symbol is not found, it returns nothing, thus set value to be zero      \n",
    "for key in data2:\n",
    "    try:\n",
    "        dict[\"EV/EBITDA\"].append(data2[key]['enterpriseToEbitda'])\n",
    "    except:\n",
    "        dict[\"EV/EBITDA\"].append('Null')\n",
    "        \n",
    "    try:\n",
    "        dict[\"totalshares\"].append(data2[key]['sharesOutstanding'])\n",
    "    except:\n",
    "        dict[\"totalshares\"].append('Null')\n",
    "\n",
    "# just to check output in code sections\n",
    "print(dict)\n",
    "\n",
    "# once verified, write into dataframe\n",
    "df = pd.DataFrame(dict)"
   ]
  },
  {
   "attachments": {},
   "cell_type": "markdown",
   "metadata": {},
   "source": [
    "## Measures elapsed time for the program runtime"
   ]
  },
  {
   "cell_type": "code",
   "execution_count": null,
   "metadata": {},
   "outputs": [
    {
     "name": "stdout",
     "output_type": "stream",
     "text": [
      "Time: 2.2349374294281006\n"
     ]
    }
   ],
   "source": [
    "print(f'Time: {time.time() - start}')"
   ]
  },
  {
   "attachments": {},
   "cell_type": "markdown",
   "metadata": {},
   "source": [
    "## Extract data frame to excel CSV"
   ]
  },
  {
   "cell_type": "code",
   "execution_count": null,
   "metadata": {},
   "outputs": [],
   "source": [
    "# transpose so that stocks are filtered by row\n",
    "df1.transposed = df1.T\n",
    "df2.transposed = df2.T\n",
    "\n",
    "with pd.ExcelWriter(r\"C:\\Users\\Cornelius\\Downloads\\export_dataframe.xlsx\",engine='xlsxwriter') as writer:\n",
    "    df.to_excel(writer, sheet_name=\"Specific\") \n",
    "    df1.transposed.to_excel(writer, sheet_name=\"Financial Data\")  \n",
    "    df2.transposed.to_excel(writer, sheet_name=\"Key stats\")\n",
    "\n",
    "writer.save()\n",
    "\n",
    "# http://pandas.pydata.org/pandas-docs/stable/reference/api/pandas.ExcelWriter.html"
   ]
  },
  {
   "attachments": {},
   "cell_type": "markdown",
   "metadata": {},
   "source": [
    "## Information from both dataframes"
   ]
  },
  {
   "attachments": {},
   "cell_type": "markdown",
   "metadata": {},
   "source": [
    "| Index | **Inputs from websites**  |               \n",
    "|--------------|------|\n",
    "|   1          | FCF from year 1|                \n",
    "|   2          | Current Price|\n",
    "|   3          | enterprise to ebitda|\n",
    "|   4          | Number of shares|\n",
    "|--------------|------|\n",
    "| Index | **Derive from inputs**  |\n",
    "|   1          | Growth Rate|\n",
    "|   2          | Discount Rate|"
   ]
  },
  {
   "attachments": {},
   "cell_type": "markdown",
   "metadata": {},
   "source": [
    "<hr style=\"height:10px;border:none;background-color:rgb(255, 255, 0);\">"
   ]
  },
  {
   "attachments": {},
   "cell_type": "markdown",
   "metadata": {},
   "source": [
    "# **Appendix**\n",
    "| Index | Useful Links  |\n",
    "|--------------|------|\n",
    "|   1          | https://www.alpharithms.com/python-financial-data-491110/|\n",
    "|   2          | https://blog.cambridgespark.com/50-free-machine-learning-datasets-part-two-financial-and-economic-datasets-6620274ee593|\n",
    "|   3          | https://365datascience.com/tutorials/python-tutorials/free-public-datasets-python/|\n",
    "|   4          | https://www.alpharithms.com/predicting-stock-prices-with-linear-regression-214618/|\n",
    "\n",
    "## Documentation\n",
    "| Index | Documentation  |\n",
    "|--------------|------|\n",
    "|   Pandas          | https://pandas.pydata.org/pandas-docs/stable/reference/|\n",
    "|   Numpy        | https://numpy.org/doc/1.24/reference/index.html|\n",
    "|   Scipy         | https://docs.scipy.org/doc//scipy/reference/index.html#scipy-api|"
   ]
  }
 ],
 "metadata": {
  "kernelspec": {
   "display_name": "Python 3",
   "language": "python",
   "name": "python3"
  },
  "language_info": {
   "codemirror_mode": {
    "name": "ipython",
    "version": 3
   },
   "file_extension": ".py",
   "mimetype": "text/x-python",
   "name": "python",
   "nbconvert_exporter": "python",
   "pygments_lexer": "ipython3",
   "version": "3.10.2"
  },
  "orig_nbformat": 4
 },
 "nbformat": 4,
 "nbformat_minor": 2
}
